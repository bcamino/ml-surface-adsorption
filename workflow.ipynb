{
 "cells": [
  {
   "cell_type": "markdown",
   "id": "6b22e58a",
   "metadata": {},
   "source": [
    "# Worflow to train the ML model\n",
    "#### Steps:\n",
    "- crystal \n",
    " - bulk input\n",
    "- pymatgen\n",
    " - build molecule pymatgen (already oriented)\n",
    " - build slab\n",
    " - build slab + molecule \n",
    "- expert system\n",
    " - write crystal input\n",
    "- optegom\n",
    "- get adsorption energy\n",
    "- post processing\n",
    " - charge transfer\n",
    " - band structure (or electronic properties?)\n",
    " - WF\n",
    "- store data in reusable fashion?\n",
    "- error management \n",
    "\n",
    "#### Loop:\n",
    "- select list of substrates & adsorbates\n",
    "- generate all surfaces\n",
    "- optgeom substrates\n",
    "- add adsorbates\n",
    "- fragment optgeom\n",
    "- extract info:\n",
    " - ads energy\n",
    " - charge transfer\n",
    " - electronic properties (band gap, work function, ?)\n"
   ]
  },
  {
   "cell_type": "code",
   "execution_count": 33,
   "id": "b71b0ccc",
   "metadata": {},
   "outputs": [],
   "source": [
    "import sys\n",
    "sys.path.insert(1, '../../crystal-code-tools/crystal-functions')\n",
    "\n",
    "from cry_file_readwrite import write_cry_input, write_cry_gui\n",
    "from cry_file_readwrite import Crystal_input, Crystal_output\n",
    "\n",
    "from cry_adsorb import sub_ads_indices\n",
    "\n",
    "from cry_calculate import cry_ads_energy\n",
    "\n",
    "from cry_execute import runcry\n",
    "\n",
    "from pymatgen.core.structure import Molecule, Structure, Lattice\n",
    "\n",
    "from pymatgen.core.surface import SlabGenerator, generate_all_slabs\n",
    "\n",
    "from pymatgen.symmetry.analyzer import SpacegroupAnalyzer\n",
    "\n",
    "from pymatgen.analysis.adsorption import AdsorbateSiteFinder\n",
    "\n",
    "from pymatgen.ext.matproj import MPRester\n",
    "\n",
    "import shutil\n",
    "import pandas as pd\n",
    "import numpy as np"
   ]
  },
  {
   "cell_type": "markdown",
   "id": "65e2072b",
   "metadata": {},
   "source": [
    "### Make molecule "
   ]
  },
  {
   "cell_type": "code",
   "execution_count": 71,
   "id": "69e95861",
   "metadata": {},
   "outputs": [],
   "source": [
    "co = Molecule('CO',[[0.0, 0.0, 0.0],[ 0.0, 0.0, 1.128]])\n",
    "o = Molecule('O',[[0.0, 0.0, 0.0]])\n",
    "adsorbate = o"
   ]
  },
  {
   "cell_type": "markdown",
   "id": "9673860d",
   "metadata": {},
   "source": [
    "### Make substrate"
   ]
  },
  {
   "cell_type": "markdown",
   "id": "f962ad78",
   "metadata": {},
   "source": [
    "#### Bulk"
   ]
  },
  {
   "cell_type": "code",
   "execution_count": 3,
   "id": "bc51f2a0",
   "metadata": {},
   "outputs": [],
   "source": [
    "with MPRester(\"p5vAQV3F1QuxFcxVT\") as m:\n",
    "    rutile = m.get_structure_by_material_id(\"mp-2657\")\n",
    "    anatase = m.get_structure_by_material_id(\"mp-390\")\n",
    "    cu = m.get_structure_by_material_id(\"mp-30\")\n",
    "    mgo = m.get_structure_by_material_id(\"mp-1265\")"
   ]
  },
  {
   "cell_type": "code",
   "execution_count": 4,
   "id": "fb661335",
   "metadata": {},
   "outputs": [],
   "source": [
    "bulk = mgo\n",
    "bulk = SpacegroupAnalyzer(bulk).get_conventional_standard_structure()"
   ]
  },
  {
   "cell_type": "markdown",
   "id": "a1fdb6bf",
   "metadata": {},
   "source": [
    "#### Slab"
   ]
  },
  {
   "cell_type": "code",
   "execution_count": 5,
   "id": "f18a7fea",
   "metadata": {},
   "outputs": [],
   "source": [
    "substrate = SlabGenerator(bulk, (1,0,0), 2., 10., center_slab=True).get_slab()"
   ]
  },
  {
   "cell_type": "markdown",
   "id": "6e8f4173",
   "metadata": {},
   "source": [
    "### Adsorb"
   ]
  },
  {
   "cell_type": "code",
   "execution_count": 73,
   "id": "efe0dfaa",
   "metadata": {},
   "outputs": [],
   "source": [
    "sub_ads_structures = AdsorbateSiteFinder(substrate).adsorb_both_surfaces(adsorbate,repeat=[1,1,1])\n",
    "AdsorbateSiteFinder(substrate).find_adsorption_sites()\n",
    "\n",
    "sub_composition = []\n",
    "ads_composition = []\n",
    "miller_indices = []\n",
    "n_layers = []\n",
    "for i,sub_ads_structure in enumerate(sub_ads_structures):\n",
    "    miller_indices.append(sub_ads_structure.miller_index)\n",
    "    n_layers.append(len(np.unique(substrate.cart_coords[:,2])))  \n",
    "    sub_composition.append(substrate.composition.reduced_formula)\n",
    "    ads_composition.append(str(adsorbate.composition.hill_formula).replace(\" \", \"\"))"
   ]
  },
  {
   "cell_type": "markdown",
   "id": "5c3b3b54",
   "metadata": {},
   "source": [
    "### Prepare inputs (geometry optimisation)"
   ]
  },
  {
   "cell_type": "code",
   "execution_count": 7,
   "id": "a4873781",
   "metadata": {},
   "outputs": [],
   "source": [
    "#geom_block = ['Adsorption tests\\n','EXTERNAL\\n','EXTPRT\\n','OPTGEOM\\n','END\\n']\n",
    "geom_block = ['Adsorption tests\\n','EXTERNAL\\n','EXTPRT\\n']\n",
    "#bs_block = ['BASISSET\\n', 'POB-DZVP\\n']\n",
    "bs_block = ['BASISSET\\n', 'STO-3G\\n']\n",
    "func_block = ['DFT\\n', 'B3LYP\\n', 'XXLGRID\\n', 'ENDDFT\\n']\n",
    "scf_block = [['TOLINTEG\\n', '7 7 7 7 14\\n'],\n",
    "             ['SHRINK\\n', '12 24\\n'],\n",
    "             ['MAXCYCLE\\n', '200\\n'],\n",
    "             ['FMIXING\\n', '70\\n'],\n",
    "             'DIIS\\n',\n",
    "             'ENDSCF\\n']"
   ]
  },
  {
   "cell_type": "markdown",
   "id": "7cad8152",
   "metadata": {},
   "source": [
    "#### Write inputs"
   ]
  },
  {
   "cell_type": "code",
   "execution_count": 8,
   "id": "5e18d8cc",
   "metadata": {},
   "outputs": [],
   "source": [
    "file_names = []\n",
    "for i,structure in enumerate(sub_ads_structures):\n",
    "    input_name = 'data/'+str(substrate.composition).replace(\" \", \"\")+'_'+str(adsorbate.composition).replace(\" \", \"\")+'_' \\\n",
    "               +''.join(str(x) for x in substrate.miller_index)+'_'+str(i+1)+'.d12'\n",
    "    file_names.append(input_name[:-4])\n",
    "    write_cry_input(input_name,crystal_blocks=[geom_block,bs_block,func_block,scf_block],external_obj=structure)"
   ]
  },
  {
   "cell_type": "markdown",
   "id": "8aa74a46",
   "metadata": {},
   "source": [
    "### Run the calculations"
   ]
  },
  {
   "cell_type": "code",
   "execution_count": 9,
   "id": "f0ee4409",
   "metadata": {},
   "outputs": [],
   "source": [
    "for cry_input in file_names:\n",
    "    #runcry(cry_input)\n",
    "    pass"
   ]
  },
  {
   "cell_type": "markdown",
   "id": "9590b9c8",
   "metadata": {},
   "source": [
    "### Read the optimised geometry"
   ]
  },
  {
   "cell_type": "code",
   "execution_count": 16,
   "id": "d3c2d910",
   "metadata": {},
   "outputs": [],
   "source": [
    "E_full_system = []\n",
    "for cry_input in file_names:\n",
    "    cry_output = Crystal_output(cry_input+'.out')\n",
    "    if cry_output.converged == True:\n",
    "        E_full_system.append(cry_output.final_energy()) #Do I need this?"
   ]
  },
  {
   "cell_type": "markdown",
   "id": "1a5c592d",
   "metadata": {},
   "source": [
    "### Prepare inputs for the BSSE calculations"
   ]
  },
  {
   "cell_type": "code",
   "execution_count": 11,
   "id": "9d99b7cc",
   "metadata": {},
   "outputs": [],
   "source": [
    "for i,cry_input in enumerate(file_names):\n",
    "    if opt_structure[i] != None:\n",
    "        indices = sub_ads_indices(sub_ads_structures[i])\n",
    "        #Substrate        \n",
    "        bsse_sub_inp = Crystal_input(cry_input+'.d12')\n",
    "        bsse_sub_inp.add_ghost(indices['adsorbate'])\n",
    "        bsse_sub_inp.opt_to_sp()\n",
    "        bsse_sub_inp_name = cry_input+'_BSSE_sub.d12'\n",
    "        write_cry_input(bsse_sub_inp_name,bsse_sub_inp)\n",
    "        \n",
    "        shutil.copy(cry_input+'.gui',cry_input+'_BSSE_sub.gui')\n",
    "        \n",
    "        #Adsorbate\n",
    "        bsse_ads_inp = Crystal_input(cry_input+'.d12')\n",
    "        bsse_ads_inp.add_ghost(indices['substrate'])\n",
    "        bsse_sub_inp.opt_to_sp()\n",
    "        bsse_ads_inp_name = cry_input+'_BSSE_ads.d12'\n",
    "        write_cry_input(bsse_ads_inp_name,bsse_ads_inp)\n",
    "        \n",
    "        shutil.copy(cry_input+'.gui',cry_input+'_BSSE_ads.gui')"
   ]
  },
  {
   "cell_type": "markdown",
   "id": "6d4f9957",
   "metadata": {},
   "source": [
    "### Run the BSSE calculations"
   ]
  },
  {
   "cell_type": "code",
   "execution_count": 12,
   "id": "90dd2fff",
   "metadata": {},
   "outputs": [],
   "source": [
    "E_sub_BSSE = []\n",
    "E_ads_BSSE = []\n",
    "for i,cry_input in enumerate(file_names):\n",
    "    runcry(cry_input+'_BSSE_sub')\n",
    "    cry_BSSE_sub_output = Crystal_output(cry_input+'_BSSE_sub.out')\n",
    "    if cry_BSSE_sub_output.converged == True:\n",
    "        E_sub_BSSE.append(cry_BSSE_sub_output.final_energy())\n",
    "    \n",
    "    \n",
    "    runcry(cry_input+'_BSSE_ads')\n",
    "    cry_BSSE_ads_output = Crystal_output(cry_input+'_BSSE_ads.out')\n",
    "    if cry_BSSE_ads_output.converged == True:\n",
    "        E_ads_BSSE.append(cry_BSSE_ads_output.final_energy())"
   ]
  },
  {
   "cell_type": "markdown",
   "id": "8f5b7b08",
   "metadata": {},
   "source": [
    "### Calculate the adsorption energy"
   ]
  },
  {
   "cell_type": "code",
   "execution_count": 76,
   "id": "1cdb57db",
   "metadata": {},
   "outputs": [],
   "source": [
    "E_adsorption = []\n",
    "for i in range(len(file_names)):\n",
    "    E_adsorption.append(cry_ads_energy(E_full_system[i],E_sub_BSSE[i],E_ads_BSSE[i]))"
   ]
  },
  {
   "cell_type": "markdown",
   "id": "a934aba3",
   "metadata": {},
   "source": [
    "### Create Dataframe"
   ]
  },
  {
   "cell_type": "code",
   "execution_count": 75,
   "id": "612505db",
   "metadata": {},
   "outputs": [
    {
     "data": {
      "text/html": [
       "<div>\n",
       "<style scoped>\n",
       "    .dataframe tbody tr th:only-of-type {\n",
       "        vertical-align: middle;\n",
       "    }\n",
       "\n",
       "    .dataframe tbody tr th {\n",
       "        vertical-align: top;\n",
       "    }\n",
       "\n",
       "    .dataframe thead th {\n",
       "        text-align: right;\n",
       "    }\n",
       "</style>\n",
       "<table border=\"1\" class=\"dataframe\">\n",
       "  <thead>\n",
       "    <tr style=\"text-align: right;\">\n",
       "      <th></th>\n",
       "      <th>File name</th>\n",
       "      <th>Substrate</th>\n",
       "      <th>N layers</th>\n",
       "      <th>Adsorbate</th>\n",
       "      <th>Miller Indices</th>\n",
       "      <th>E adsorption (BSSE)</th>\n",
       "      <th>E sub (ads ghost)</th>\n",
       "      <th>E ads (ads ghost)</th>\n",
       "      <th>E full system</th>\n",
       "    </tr>\n",
       "  </thead>\n",
       "  <tbody>\n",
       "    <tr>\n",
       "      <th>0</th>\n",
       "      <td>data/Mg2O2_O1_100_1</td>\n",
       "      <td>MgO</td>\n",
       "      <td>2</td>\n",
       "      <td>O</td>\n",
       "      <td>(1, 0, 0)</td>\n",
       "      <td>-2.340839</td>\n",
       "      <td>-14796.346942</td>\n",
       "      <td>-4022.516863</td>\n",
       "      <td>-18821.204644</td>\n",
       "    </tr>\n",
       "    <tr>\n",
       "      <th>1</th>\n",
       "      <td>data/Mg2O2_O1_100_2</td>\n",
       "      <td>MgO</td>\n",
       "      <td>2</td>\n",
       "      <td>O</td>\n",
       "      <td>(1, 0, 0)</td>\n",
       "      <td>-3.669925</td>\n",
       "      <td>-14796.743457</td>\n",
       "      <td>-4021.823416</td>\n",
       "      <td>-18822.236798</td>\n",
       "    </tr>\n",
       "    <tr>\n",
       "      <th>2</th>\n",
       "      <td>data/Mg2O2_O1_100_3</td>\n",
       "      <td>MgO</td>\n",
       "      <td>2</td>\n",
       "      <td>O</td>\n",
       "      <td>(1, 0, 0)</td>\n",
       "      <td>-1.953534</td>\n",
       "      <td>-14796.447112</td>\n",
       "      <td>-4022.175956</td>\n",
       "      <td>-18820.576601</td>\n",
       "    </tr>\n",
       "    <tr>\n",
       "      <th>3</th>\n",
       "      <td>data/Mg2O2_O1_100_4</td>\n",
       "      <td>MgO</td>\n",
       "      <td>2</td>\n",
       "      <td>O</td>\n",
       "      <td>(1, 0, 0)</td>\n",
       "      <td>-3.961497</td>\n",
       "      <td>-14796.502362</td>\n",
       "      <td>-4022.206221</td>\n",
       "      <td>-18822.670080</td>\n",
       "    </tr>\n",
       "  </tbody>\n",
       "</table>\n",
       "</div>"
      ],
      "text/plain": [
       "             File name Substrate  N layers Adsorbate Miller Indices  \\\n",
       "0  data/Mg2O2_O1_100_1       MgO         2         O      (1, 0, 0)   \n",
       "1  data/Mg2O2_O1_100_2       MgO         2         O      (1, 0, 0)   \n",
       "2  data/Mg2O2_O1_100_3       MgO         2         O      (1, 0, 0)   \n",
       "3  data/Mg2O2_O1_100_4       MgO         2         O      (1, 0, 0)   \n",
       "\n",
       "   E adsorption (BSSE)  E sub (ads ghost)  E ads (ads ghost)  E full system  \n",
       "0            -2.340839      -14796.346942       -4022.516863  -18821.204644  \n",
       "1            -3.669925      -14796.743457       -4021.823416  -18822.236798  \n",
       "2            -1.953534      -14796.447112       -4022.175956  -18820.576601  \n",
       "3            -3.961497      -14796.502362       -4022.206221  -18822.670080  "
      ]
     },
     "execution_count": 75,
     "metadata": {},
     "output_type": "execute_result"
    }
   ],
   "source": [
    "df = pd.DataFrame(list(zip(file_names, sub_composition, n_layers, ads_composition,  miller_indices, E_adsorption,E_sub_BSSE,E_ads_BSSE,E_full_system)),\n",
    "               columns =['File name', 'Substrate','N layers','Adsorbate','Miller Indices','E adsorption (BSSE)','E sub (ads ghost)','E ads (ads ghost)','E full system'])\n",
    "df"
   ]
  }
 ],
 "metadata": {
  "kernelspec": {
   "display_name": "Python 3 (ipykernel)",
   "language": "python",
   "name": "python3"
  },
  "language_info": {
   "codemirror_mode": {
    "name": "ipython",
    "version": 3
   },
   "file_extension": ".py",
   "mimetype": "text/x-python",
   "name": "python",
   "nbconvert_exporter": "python",
   "pygments_lexer": "ipython3",
   "version": "3.9.7"
  }
 },
 "nbformat": 4,
 "nbformat_minor": 5
}
