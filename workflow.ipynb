{
 "cells": [
  {
   "cell_type": "markdown",
   "id": "5b62f737",
   "metadata": {},
   "source": [
    "# Worflow to train the ML model\n",
    "\n",
    "This workflow performs the following tasks:\n",
    "- download the substrate structures from materials project\n",
    "- generate the adsorbate structures (pymatgen)\n",
    "- generate the adsorption structures\n",
    "- write the CRYSTAL inputs\n",
    "- run the adsorbate+substrate CRYSTAL calculations\n",
    "- run the adsorbate and substrate CRYSTAL calculations (GHOST atoms)\n",
    "- calculate the E_ads (BSSE corrected)"
   ]
  },
  {
   "cell_type": "code",
   "execution_count": 11,
   "id": "46af4c40",
   "metadata": {},
   "outputs": [],
   "source": [
    "import sys\n",
    "sys.path.insert(1, '../../crystal-code-tools/crystal_functions/crystal_functions')\n",
    "\n",
    "# crystal_functions imports\n",
    "from file_readwrite import write_cry_input, write_cry_gui\n",
    "from file_readwrite import Crystal_input, Crystal_output\n",
    "from adsorb import sub_ads_indices\n",
    "from calculate import cry_ads_energy\n",
    "from execute import runcry\n",
    "\n",
    "# pymatgen imports\n",
    "from pymatgen.core.structure import Molecule, Structure, Lattice\n",
    "from pymatgen.core.surface import SlabGenerator, generate_all_slabs\n",
    "from pymatgen.symmetry.analyzer import SpacegroupAnalyzer\n",
    "from pymatgen.analysis.adsorption import AdsorbateSiteFinder\n",
    "from pymatgen.ext.matproj import MPRester\n",
    "\n",
    "# other imports\n",
    "import shutil\n",
    "import pandas as pd\n",
    "import numpy as np"
   ]
  },
  {
   "cell_type": "markdown",
   "id": "dde6d1e3",
   "metadata": {},
   "source": [
    "### Make adsorbates\n",
    "Make the adsorbate structures using the Molecule class in pymatgen"
   ]
  },
  {
   "cell_type": "code",
   "execution_count": 12,
   "id": "bb925a62",
   "metadata": {},
   "outputs": [],
   "source": [
    "O = Molecule('O',[[0.0, 0.0, 0.0]])\n",
    "CO = Molecule('CO',[[0.0, 0.0, 0.0],[ 0.0, 0.0, 1.128]])\n",
    "H2O = Molecule('HHO',[[0.76,0.00,0.50],[0.76, 0.00,-0.50],[0.0, 0.0, 0.0]])\n",
    "adsorbates = [O,CO,H2O]"
   ]
  },
  {
   "cell_type": "markdown",
   "id": "c649d107",
   "metadata": {},
   "source": [
    "### Make substrates"
   ]
  },
  {
   "cell_type": "markdown",
   "id": "5da14270",
   "metadata": {},
   "source": [
    "#### Bulk\n",
    "Download the bulk structures from the Materials Project"
   ]
  },
  {
   "cell_type": "code",
   "execution_count": 13,
   "id": "082a8281",
   "metadata": {},
   "outputs": [],
   "source": [
    "with MPRester(\"p5vAQV3F1QuxFcxVT\") as m:    \n",
    "    cu = m.get_structure_by_material_id(\"mp-30\")\n",
    "    mgo = m.get_structure_by_material_id(\"mp-1265\")\n",
    "    rutile = m.get_structure_by_material_id(\"mp-2657\")\n",
    "materials = [cu,mgo,rutile]"
   ]
  },
  {
   "cell_type": "markdown",
   "id": "c34dbdfa",
   "metadata": {},
   "source": [
    "Ensure the conventional cell is used"
   ]
  },
  {
   "cell_type": "code",
   "execution_count": 14,
   "id": "3efd62ad",
   "metadata": {},
   "outputs": [],
   "source": [
    "bulks = []\n",
    "substrates = []\n",
    "for material in materials:\n",
    "    bulks.append(SpacegroupAnalyzer(material).get_conventional_standard_structure())"
   ]
  },
  {
   "cell_type": "markdown",
   "id": "a4c0e4a7",
   "metadata": {},
   "source": [
    "#### Slab\n",
    "Generate the slabs using the pymatgen SlabGenerator function."
   ]
  },
  {
   "cell_type": "code",
   "execution_count": 15,
   "id": "6474ff6f",
   "metadata": {},
   "outputs": [],
   "source": [
    "substrates =[]\n",
    "for bulk in bulks:\n",
    "    slabs = generate_all_slabs(bulk, max_index=1, min_slab_size=6., min_vacuum_size=10.0, \n",
    "                                   center_slab=False, symmetrize=True, in_unit_planes=False) \n",
    "    #substrates.append(SlabGenerator(bulk, (1,0,0), 2., 10., center_slab=True).get_slab())\n",
    "    substrates.extend(slabs)"
   ]
  },
  {
   "cell_type": "markdown",
   "id": "c66cbbce",
   "metadata": {},
   "source": [
    "### Adsorb\n",
    "Place the adsorbate on both surfaces of the slab (symmetric sites)"
   ]
  },
  {
   "cell_type": "code",
   "execution_count": 16,
   "id": "c4922d2d",
   "metadata": {},
   "outputs": [],
   "source": [
    "sub_composition = []\n",
    "ads_composition = []\n",
    "miller_indices = []    \n",
    "n_layers = []\n",
    "sub_ads_structures = []\n",
    "for substrate in substrates:\n",
    "    for adsorbate in adsorbates:\n",
    "        adsorption_structures = AdsorbateSiteFinder(substrate).adsorb_both_surfaces(adsorbate,repeat=[1,1,1])\n",
    "        sites = AdsorbateSiteFinder(substrate).find_adsorption_sites()    \n",
    "        for i,adsorption_structure in enumerate(adsorption_structures):\n",
    "            miller_indices.append(adsorption_structure.miller_index)\n",
    "            n_layers.append(len(np.unique(substrate.cart_coords[:,2])))  \n",
    "            sub_composition.append(substrate.composition.reduced_formula)\n",
    "            ads_composition.append(str(adsorbate.composition.hill_formula).replace(\" \", \"\"))\n",
    "            sub_ads_structures.append(adsorption_structure)"
   ]
  },
  {
   "cell_type": "markdown",
   "id": "e9dc1da5",
   "metadata": {},
   "source": [
    "### Prepare inputs (geometry optimisation)\n",
    "Define CRYSTAL input parameters."
   ]
  },
  {
   "cell_type": "code",
   "execution_count": 17,
   "id": "791b0305",
   "metadata": {},
   "outputs": [],
   "source": [
    "#geom_block = ['Adsorption tests\\n','EXTERNAL\\n','EXTPRT\\n','OPTGEOM\\n','END\\n']\n",
    "geom_block = ['Adsorption tests\\n','EXTERNAL\\n','EXTPRT\\n']\n",
    "#bs_block = ['BASISSET\\n', 'POB-DZVP\\n']\n",
    "bs_block = ['BASISSET\\n', 'STO-3G\\n']\n",
    "func_block = ['DFT\\n', 'B3LYP\\n', 'XXLGRID\\n', 'ENDDFT\\n']\n",
    "scf_block = [['TOLINTEG\\n', '5 5 5 5 10\\n'],\n",
    "             ['SHRINK\\n', '6 12\\n'],\n",
    "             ['MAXCYCLE\\n', '200\\n'],\n",
    "             ['FMIXING\\n', '70\\n'],\n",
    "             'DIIS\\n',\n",
    "             'ENDSCF\\n']"
   ]
  },
  {
   "cell_type": "markdown",
   "id": "60d92502",
   "metadata": {},
   "source": [
    "#### Write inputs\n",
    "Write the inputs to file."
   ]
  },
  {
   "cell_type": "code",
   "execution_count": 18,
   "id": "9a05baf2",
   "metadata": {},
   "outputs": [],
   "source": [
    "file_names = []\n",
    "for i,structure in enumerate(sub_ads_structures):\n",
    "    input_name = 'data/'+str(sub_composition[i]).replace(\" \", \"\")+'_'+str(ads_composition[i]).replace(\" \", \"\")+'_' \\\n",
    "               +''.join(str(x) for x in substrate.miller_index)+'_'+str(i+1)+'.d12'\n",
    "    file_names.append(input_name[:-4])\n",
    "    write_cry_input(input_name,crystal_blocks=[geom_block,bs_block,func_block,scf_block],external_obj=structure)"
   ]
  },
  {
   "cell_type": "markdown",
   "id": "30b60b32",
   "metadata": {},
   "source": [
    "### Run the calculations\n",
    "Use the crystal_functions runcry function to execute CRYSTAL (please ensure the path to your runcry17 is defined in execute.runcry()"
   ]
  },
  {
   "cell_type": "code",
   "execution_count": 19,
   "id": "78377a56",
   "metadata": {},
   "outputs": [],
   "source": [
    "for cry_input in file_names:\n",
    "    #runcry(cry_input)\n",
    "    pass"
   ]
  },
  {
   "cell_type": "markdown",
   "id": "4a58725e",
   "metadata": {},
   "source": [
    "### Read the optimised geometry\n",
    "Use the crystal_functions Crystal_output class to extract the final energy."
   ]
  },
  {
   "cell_type": "code",
   "execution_count": 20,
   "id": "d5108619",
   "metadata": {},
   "outputs": [
    {
     "name": "stderr",
     "output_type": "stream",
     "text": [
      "ERROR:root:Internal Python error in the inspect module.\n",
      "Below is the traceback from this internal error.\n",
      "\n"
     ]
    },
    {
     "name": "stdout",
     "output_type": "stream",
     "text": [
      "EXITING: a .out file needs to be specified\n",
      "Traceback (most recent call last):\n",
      "  File \"/Users/brunocamino/Desktop/Imperial/cmsg_icl/ml-surface-adsorption/../../crystal-code-tools/crystal_functions/crystal_functions/file_readwrite.py\", line 128, in __init__\n",
      "    file = open(output_name, 'r')\n",
      "FileNotFoundError: [Errno 2] No such file or directory: 'data/Cu_O_001_1.out'\n",
      "\n",
      "During handling of the above exception, another exception occurred:\n",
      "\n",
      "Traceback (most recent call last):\n",
      "  File \"/Users/brunocamino/miniconda3/envs/cc/lib/python3.9/site-packages/IPython/core/interactiveshell.py\", line 3444, in run_code\n",
      "    exec(code_obj, self.user_global_ns, self.user_ns)\n",
      "  File \"/var/folders/f2/8kc7y9697m59bwltxjd42y300000gn/T/ipykernel_17960/41481736.py\", line 3, in <module>\n",
      "    cry_output = Crystal_output(cry_input+'.out')\n",
      "  File \"/Users/brunocamino/Desktop/Imperial/cmsg_icl/ml-surface-adsorption/../../crystal-code-tools/crystal_functions/crystal_functions/file_readwrite.py\", line 133, in __init__\n",
      "    sys.exit(1)\n",
      "SystemExit: 1\n",
      "\n",
      "During handling of the above exception, another exception occurred:\n",
      "\n",
      "Traceback (most recent call last):\n",
      "  File \"/Users/brunocamino/miniconda3/envs/cc/lib/python3.9/site-packages/IPython/core/ultratb.py\", line 1101, in get_records\n",
      "    return _fixed_getinnerframes(etb, number_of_lines_of_context, tb_offset)\n",
      "  File \"/Users/brunocamino/miniconda3/envs/cc/lib/python3.9/site-packages/IPython/core/ultratb.py\", line 248, in wrapped\n",
      "    return f(*args, **kwargs)\n",
      "  File \"/Users/brunocamino/miniconda3/envs/cc/lib/python3.9/site-packages/IPython/core/ultratb.py\", line 281, in _fixed_getinnerframes\n",
      "    records = fix_frame_records_filenames(inspect.getinnerframes(etb, context))\n",
      "  File \"/Users/brunocamino/miniconda3/envs/cc/lib/python3.9/inspect.py\", line 1541, in getinnerframes\n",
      "    frameinfo = (tb.tb_frame,) + getframeinfo(tb, context)\n",
      "AttributeError: 'tuple' object has no attribute 'tb_frame'\n"
     ]
    },
    {
     "ename": "TypeError",
     "evalue": "object of type 'NoneType' has no len()",
     "output_type": "error",
     "traceback": [
      "\u001b[0;31m---------------------------------------------------------------------------\u001b[0m",
      "\u001b[0;31mFileNotFoundError\u001b[0m                         Traceback (most recent call last)",
      "\u001b[0;32m~/Desktop/Imperial/cmsg_icl/ml-surface-adsorption/../../crystal-code-tools/crystal_functions/crystal_functions/file_readwrite.py\u001b[0m in \u001b[0;36m__init__\u001b[0;34m(self, output_name)\u001b[0m\n\u001b[1;32m    127\u001b[0m                 \u001b[0moutput_name\u001b[0m \u001b[0;34m=\u001b[0m \u001b[0moutput_name\u001b[0m\u001b[0;34m+\u001b[0m\u001b[0;34m'.out'\u001b[0m\u001b[0;34m\u001b[0m\u001b[0;34m\u001b[0m\u001b[0m\n\u001b[0;32m--> 128\u001b[0;31m             \u001b[0mfile\u001b[0m \u001b[0;34m=\u001b[0m \u001b[0mopen\u001b[0m\u001b[0;34m(\u001b[0m\u001b[0moutput_name\u001b[0m\u001b[0;34m,\u001b[0m \u001b[0;34m'r'\u001b[0m\u001b[0;34m)\u001b[0m\u001b[0;34m\u001b[0m\u001b[0;34m\u001b[0m\u001b[0m\n\u001b[0m\u001b[1;32m    129\u001b[0m             \u001b[0mself\u001b[0m\u001b[0;34m.\u001b[0m\u001b[0mdata\u001b[0m \u001b[0;34m=\u001b[0m \u001b[0mfile\u001b[0m\u001b[0;34m.\u001b[0m\u001b[0mreadlines\u001b[0m\u001b[0;34m(\u001b[0m\u001b[0;34m)\u001b[0m\u001b[0;34m\u001b[0m\u001b[0;34m\u001b[0m\u001b[0m\n",
      "\u001b[0;31mFileNotFoundError\u001b[0m: [Errno 2] No such file or directory: 'data/Cu_O_001_1.out'",
      "\nDuring handling of the above exception, another exception occurred:\n",
      "\u001b[0;31mSystemExit\u001b[0m                                Traceback (most recent call last)",
      "    \u001b[0;31m[... skipping hidden 1 frame]\u001b[0m\n",
      "\u001b[0;32m/var/folders/f2/8kc7y9697m59bwltxjd42y300000gn/T/ipykernel_17960/41481736.py\u001b[0m in \u001b[0;36m<module>\u001b[0;34m\u001b[0m\n\u001b[1;32m      2\u001b[0m \u001b[0;32mfor\u001b[0m \u001b[0mcry_input\u001b[0m \u001b[0;32min\u001b[0m \u001b[0mfile_names\u001b[0m\u001b[0;34m:\u001b[0m\u001b[0;34m\u001b[0m\u001b[0;34m\u001b[0m\u001b[0m\n\u001b[0;32m----> 3\u001b[0;31m     \u001b[0mcry_output\u001b[0m \u001b[0;34m=\u001b[0m \u001b[0mCrystal_output\u001b[0m\u001b[0;34m(\u001b[0m\u001b[0mcry_input\u001b[0m\u001b[0;34m+\u001b[0m\u001b[0;34m'.out'\u001b[0m\u001b[0;34m)\u001b[0m\u001b[0;34m\u001b[0m\u001b[0;34m\u001b[0m\u001b[0m\n\u001b[0m\u001b[1;32m      4\u001b[0m     \u001b[0;32mif\u001b[0m \u001b[0mcry_output\u001b[0m\u001b[0;34m.\u001b[0m\u001b[0mconverged\u001b[0m \u001b[0;34m==\u001b[0m \u001b[0;32mTrue\u001b[0m\u001b[0;34m:\u001b[0m\u001b[0;34m\u001b[0m\u001b[0;34m\u001b[0m\u001b[0m\n",
      "\u001b[0;32m~/Desktop/Imperial/cmsg_icl/ml-surface-adsorption/../../crystal-code-tools/crystal_functions/crystal_functions/file_readwrite.py\u001b[0m in \u001b[0;36m__init__\u001b[0;34m(self, output_name)\u001b[0m\n\u001b[1;32m    132\u001b[0m             \u001b[0mprint\u001b[0m\u001b[0;34m(\u001b[0m\u001b[0;34m'EXITING: a .out file needs to be specified'\u001b[0m\u001b[0;34m)\u001b[0m\u001b[0;34m\u001b[0m\u001b[0;34m\u001b[0m\u001b[0m\n\u001b[0;32m--> 133\u001b[0;31m             \u001b[0msys\u001b[0m\u001b[0;34m.\u001b[0m\u001b[0mexit\u001b[0m\u001b[0;34m(\u001b[0m\u001b[0;36m1\u001b[0m\u001b[0;34m)\u001b[0m\u001b[0;34m\u001b[0m\u001b[0;34m\u001b[0m\u001b[0m\n\u001b[0m\u001b[1;32m    134\u001b[0m \u001b[0;34m\u001b[0m\u001b[0m\n",
      "\u001b[0;31mSystemExit\u001b[0m: 1",
      "\nDuring handling of the above exception, another exception occurred:\n",
      "\u001b[0;31mTypeError\u001b[0m                                 Traceback (most recent call last)",
      "    \u001b[0;31m[... skipping hidden 1 frame]\u001b[0m\n",
      "\u001b[0;32m~/miniconda3/envs/cc/lib/python3.9/site-packages/IPython/core/interactiveshell.py\u001b[0m in \u001b[0;36mshowtraceback\u001b[0;34m(self, exc_tuple, filename, tb_offset, exception_only, running_compiled_code)\u001b[0m\n\u001b[1;32m   2055\u001b[0m                     stb = ['An exception has occurred, use %tb to see '\n\u001b[1;32m   2056\u001b[0m                            'the full traceback.\\n']\n\u001b[0;32m-> 2057\u001b[0;31m                     stb.extend(self.InteractiveTB.get_exception_only(etype,\n\u001b[0m\u001b[1;32m   2058\u001b[0m                                                                      value))\n\u001b[1;32m   2059\u001b[0m                 \u001b[0;32melse\u001b[0m\u001b[0;34m:\u001b[0m\u001b[0;34m\u001b[0m\u001b[0;34m\u001b[0m\u001b[0m\n",
      "\u001b[0;32m~/miniconda3/envs/cc/lib/python3.9/site-packages/IPython/core/ultratb.py\u001b[0m in \u001b[0;36mget_exception_only\u001b[0;34m(self, etype, value)\u001b[0m\n\u001b[1;32m    752\u001b[0m         \u001b[0mvalue\u001b[0m \u001b[0;34m:\u001b[0m \u001b[0mexception\u001b[0m \u001b[0mvalue\u001b[0m\u001b[0;34m\u001b[0m\u001b[0;34m\u001b[0m\u001b[0m\n\u001b[1;32m    753\u001b[0m         \"\"\"\n\u001b[0;32m--> 754\u001b[0;31m         \u001b[0;32mreturn\u001b[0m \u001b[0mListTB\u001b[0m\u001b[0;34m.\u001b[0m\u001b[0mstructured_traceback\u001b[0m\u001b[0;34m(\u001b[0m\u001b[0mself\u001b[0m\u001b[0;34m,\u001b[0m \u001b[0metype\u001b[0m\u001b[0;34m,\u001b[0m \u001b[0mvalue\u001b[0m\u001b[0;34m)\u001b[0m\u001b[0;34m\u001b[0m\u001b[0;34m\u001b[0m\u001b[0m\n\u001b[0m\u001b[1;32m    755\u001b[0m \u001b[0;34m\u001b[0m\u001b[0m\n\u001b[1;32m    756\u001b[0m     \u001b[0;32mdef\u001b[0m \u001b[0mshow_exception_only\u001b[0m\u001b[0;34m(\u001b[0m\u001b[0mself\u001b[0m\u001b[0;34m,\u001b[0m \u001b[0metype\u001b[0m\u001b[0;34m,\u001b[0m \u001b[0mevalue\u001b[0m\u001b[0;34m)\u001b[0m\u001b[0;34m:\u001b[0m\u001b[0;34m\u001b[0m\u001b[0;34m\u001b[0m\u001b[0m\n",
      "\u001b[0;32m~/miniconda3/envs/cc/lib/python3.9/site-packages/IPython/core/ultratb.py\u001b[0m in \u001b[0;36mstructured_traceback\u001b[0;34m(self, etype, evalue, etb, tb_offset, context)\u001b[0m\n\u001b[1;32m    627\u001b[0m             \u001b[0mchained_exceptions_tb_offset\u001b[0m \u001b[0;34m=\u001b[0m \u001b[0;36m0\u001b[0m\u001b[0;34m\u001b[0m\u001b[0;34m\u001b[0m\u001b[0m\n\u001b[1;32m    628\u001b[0m             out_list = (\n\u001b[0;32m--> 629\u001b[0;31m                 self.structured_traceback(\n\u001b[0m\u001b[1;32m    630\u001b[0m                     \u001b[0metype\u001b[0m\u001b[0;34m,\u001b[0m \u001b[0mevalue\u001b[0m\u001b[0;34m,\u001b[0m \u001b[0;34m(\u001b[0m\u001b[0metb\u001b[0m\u001b[0;34m,\u001b[0m \u001b[0mchained_exc_ids\u001b[0m\u001b[0;34m)\u001b[0m\u001b[0;34m,\u001b[0m\u001b[0;34m\u001b[0m\u001b[0;34m\u001b[0m\u001b[0m\n\u001b[1;32m    631\u001b[0m                     chained_exceptions_tb_offset, context)\n",
      "\u001b[0;32m~/miniconda3/envs/cc/lib/python3.9/site-packages/IPython/core/ultratb.py\u001b[0m in \u001b[0;36mstructured_traceback\u001b[0;34m(self, etype, value, tb, tb_offset, number_of_lines_of_context)\u001b[0m\n\u001b[1;32m   1365\u001b[0m         \u001b[0;32melse\u001b[0m\u001b[0;34m:\u001b[0m\u001b[0;34m\u001b[0m\u001b[0;34m\u001b[0m\u001b[0m\n\u001b[1;32m   1366\u001b[0m             \u001b[0mself\u001b[0m\u001b[0;34m.\u001b[0m\u001b[0mtb\u001b[0m \u001b[0;34m=\u001b[0m \u001b[0mtb\u001b[0m\u001b[0;34m\u001b[0m\u001b[0;34m\u001b[0m\u001b[0m\n\u001b[0;32m-> 1367\u001b[0;31m         return FormattedTB.structured_traceback(\n\u001b[0m\u001b[1;32m   1368\u001b[0m             self, etype, value, tb, tb_offset, number_of_lines_of_context)\n\u001b[1;32m   1369\u001b[0m \u001b[0;34m\u001b[0m\u001b[0m\n",
      "\u001b[0;32m~/miniconda3/envs/cc/lib/python3.9/site-packages/IPython/core/ultratb.py\u001b[0m in \u001b[0;36mstructured_traceback\u001b[0;34m(self, etype, value, tb, tb_offset, number_of_lines_of_context)\u001b[0m\n\u001b[1;32m   1265\u001b[0m         \u001b[0;32mif\u001b[0m \u001b[0mmode\u001b[0m \u001b[0;32min\u001b[0m \u001b[0mself\u001b[0m\u001b[0;34m.\u001b[0m\u001b[0mverbose_modes\u001b[0m\u001b[0;34m:\u001b[0m\u001b[0;34m\u001b[0m\u001b[0;34m\u001b[0m\u001b[0m\n\u001b[1;32m   1266\u001b[0m             \u001b[0;31m# Verbose modes need a full traceback\u001b[0m\u001b[0;34m\u001b[0m\u001b[0;34m\u001b[0m\u001b[0m\n\u001b[0;32m-> 1267\u001b[0;31m             return VerboseTB.structured_traceback(\n\u001b[0m\u001b[1;32m   1268\u001b[0m                 \u001b[0mself\u001b[0m\u001b[0;34m,\u001b[0m \u001b[0metype\u001b[0m\u001b[0;34m,\u001b[0m \u001b[0mvalue\u001b[0m\u001b[0;34m,\u001b[0m \u001b[0mtb\u001b[0m\u001b[0;34m,\u001b[0m \u001b[0mtb_offset\u001b[0m\u001b[0;34m,\u001b[0m \u001b[0mnumber_of_lines_of_context\u001b[0m\u001b[0;34m\u001b[0m\u001b[0;34m\u001b[0m\u001b[0m\n\u001b[1;32m   1269\u001b[0m             )\n",
      "\u001b[0;32m~/miniconda3/envs/cc/lib/python3.9/site-packages/IPython/core/ultratb.py\u001b[0m in \u001b[0;36mstructured_traceback\u001b[0;34m(self, etype, evalue, etb, tb_offset, number_of_lines_of_context)\u001b[0m\n\u001b[1;32m   1122\u001b[0m         \u001b[0;34m\"\"\"Return a nice text document describing the traceback.\"\"\"\u001b[0m\u001b[0;34m\u001b[0m\u001b[0;34m\u001b[0m\u001b[0m\n\u001b[1;32m   1123\u001b[0m \u001b[0;34m\u001b[0m\u001b[0m\n\u001b[0;32m-> 1124\u001b[0;31m         formatted_exception = self.format_exception_as_a_whole(etype, evalue, etb, number_of_lines_of_context,\n\u001b[0m\u001b[1;32m   1125\u001b[0m                                                                tb_offset)\n\u001b[1;32m   1126\u001b[0m \u001b[0;34m\u001b[0m\u001b[0m\n",
      "\u001b[0;32m~/miniconda3/envs/cc/lib/python3.9/site-packages/IPython/core/ultratb.py\u001b[0m in \u001b[0;36mformat_exception_as_a_whole\u001b[0;34m(self, etype, evalue, etb, number_of_lines_of_context, tb_offset)\u001b[0m\n\u001b[1;32m   1080\u001b[0m \u001b[0;34m\u001b[0m\u001b[0m\n\u001b[1;32m   1081\u001b[0m \u001b[0;34m\u001b[0m\u001b[0m\n\u001b[0;32m-> 1082\u001b[0;31m         \u001b[0mlast_unique\u001b[0m\u001b[0;34m,\u001b[0m \u001b[0mrecursion_repeat\u001b[0m \u001b[0;34m=\u001b[0m \u001b[0mfind_recursion\u001b[0m\u001b[0;34m(\u001b[0m\u001b[0morig_etype\u001b[0m\u001b[0;34m,\u001b[0m \u001b[0mevalue\u001b[0m\u001b[0;34m,\u001b[0m \u001b[0mrecords\u001b[0m\u001b[0;34m)\u001b[0m\u001b[0;34m\u001b[0m\u001b[0;34m\u001b[0m\u001b[0m\n\u001b[0m\u001b[1;32m   1083\u001b[0m \u001b[0;34m\u001b[0m\u001b[0m\n\u001b[1;32m   1084\u001b[0m         \u001b[0mframes\u001b[0m \u001b[0;34m=\u001b[0m \u001b[0mself\u001b[0m\u001b[0;34m.\u001b[0m\u001b[0mformat_records\u001b[0m\u001b[0;34m(\u001b[0m\u001b[0mrecords\u001b[0m\u001b[0;34m,\u001b[0m \u001b[0mlast_unique\u001b[0m\u001b[0;34m,\u001b[0m \u001b[0mrecursion_repeat\u001b[0m\u001b[0;34m)\u001b[0m\u001b[0;34m\u001b[0m\u001b[0;34m\u001b[0m\u001b[0m\n",
      "\u001b[0;32m~/miniconda3/envs/cc/lib/python3.9/site-packages/IPython/core/ultratb.py\u001b[0m in \u001b[0;36mfind_recursion\u001b[0;34m(etype, value, records)\u001b[0m\n\u001b[1;32m    380\u001b[0m     \u001b[0;31m# first frame (from in to out) that looks different.\u001b[0m\u001b[0;34m\u001b[0m\u001b[0;34m\u001b[0m\u001b[0m\n\u001b[1;32m    381\u001b[0m     \u001b[0;32mif\u001b[0m \u001b[0;32mnot\u001b[0m \u001b[0mis_recursion_error\u001b[0m\u001b[0;34m(\u001b[0m\u001b[0metype\u001b[0m\u001b[0;34m,\u001b[0m \u001b[0mvalue\u001b[0m\u001b[0;34m,\u001b[0m \u001b[0mrecords\u001b[0m\u001b[0;34m)\u001b[0m\u001b[0;34m:\u001b[0m\u001b[0;34m\u001b[0m\u001b[0;34m\u001b[0m\u001b[0m\n\u001b[0;32m--> 382\u001b[0;31m         \u001b[0;32mreturn\u001b[0m \u001b[0mlen\u001b[0m\u001b[0;34m(\u001b[0m\u001b[0mrecords\u001b[0m\u001b[0;34m)\u001b[0m\u001b[0;34m,\u001b[0m \u001b[0;36m0\u001b[0m\u001b[0;34m\u001b[0m\u001b[0;34m\u001b[0m\u001b[0m\n\u001b[0m\u001b[1;32m    383\u001b[0m \u001b[0;34m\u001b[0m\u001b[0m\n\u001b[1;32m    384\u001b[0m     \u001b[0;31m# Select filename, lineno, func_name to track frames with\u001b[0m\u001b[0;34m\u001b[0m\u001b[0;34m\u001b[0m\u001b[0m\n",
      "\u001b[0;31mTypeError\u001b[0m: object of type 'NoneType' has no len()"
     ]
    }
   ],
   "source": [
    "E_full_system = []\n",
    "for cry_input in file_names:\n",
    "    cry_output = Crystal_output(cry_input+'.out')\n",
    "    if cry_output.converged == True:\n",
    "        E_full_system.append(cry_output.final_energy()) #Do I need this?"
   ]
  },
  {
   "cell_type": "markdown",
   "id": "616c0c70",
   "metadata": {},
   "source": [
    "### Prepare inputs for the BSSE calculations\n",
    "Generate the inputs for the BSSE calculation. The indices of the GHOST atoms are obtained from the pymatgen.core.structure.Slab object ('adsorbate' and 'substrate')."
   ]
  },
  {
   "cell_type": "code",
   "execution_count": null,
   "id": "6f624c38",
   "metadata": {},
   "outputs": [],
   "source": [
    "for i,cry_input in enumerate(file_names):\n",
    "    if opt_structure[i] != None:\n",
    "        indices = sub_ads_indices(sub_ads_structures[i])\n",
    "        #Substrate        \n",
    "        bsse_sub_inp = Crystal_input(cry_input+'.d12')\n",
    "        bsse_sub_inp.add_ghost(indices['adsorbate'])\n",
    "        bsse_sub_inp.opt_to_sp()\n",
    "        bsse_sub_inp_name = cry_input+'_BSSE_sub.d12'\n",
    "        write_cry_input(bsse_sub_inp_name,bsse_sub_inp)\n",
    "        \n",
    "        shutil.copy(cry_input+'.gui',cry_input+'_BSSE_sub.gui')\n",
    "        \n",
    "        #Adsorbate\n",
    "        bsse_ads_inp = Crystal_input(cry_input+'.d12')\n",
    "        bsse_ads_inp.add_ghost(indices['substrate'])\n",
    "        bsse_sub_inp.opt_to_sp()\n",
    "        bsse_ads_inp_name = cry_input+'_BSSE_ads.d12'\n",
    "        write_cry_input(bsse_ads_inp_name,bsse_ads_inp)\n",
    "        \n",
    "        shutil.copy(cry_input+'.gui',cry_input+'_BSSE_ads.gui')"
   ]
  },
  {
   "cell_type": "markdown",
   "id": "aa51117f",
   "metadata": {},
   "source": [
    "### Run the BSSE calculations\n",
    "Use the crystal_functions runcry function to execute CRYSTAL (please ensure the path to your runcry17 is defined in execute.runcry()"
   ]
  },
  {
   "cell_type": "code",
   "execution_count": null,
   "id": "5805b446",
   "metadata": {},
   "outputs": [],
   "source": [
    "E_sub_BSSE = []\n",
    "E_ads_BSSE = []\n",
    "for i,cry_input in enumerate(file_names):\n",
    "    runcry(cry_input+'_BSSE_sub')\n",
    "    cry_BSSE_sub_output = Crystal_output(cry_input+'_BSSE_sub.out')\n",
    "    if cry_BSSE_sub_output.converged == True:\n",
    "        E_sub_BSSE.append(cry_BSSE_sub_output.final_energy())\n",
    "    \n",
    "    \n",
    "    runcry(cry_input+'_BSSE_ads')\n",
    "    cry_BSSE_ads_output = Crystal_output(cry_input+'_BSSE_ads.out')\n",
    "    if cry_BSSE_ads_output.converged == True:\n",
    "        E_ads_BSSE.append(cry_BSSE_ads_output.final_energy())"
   ]
  },
  {
   "cell_type": "markdown",
   "id": "c60338a0",
   "metadata": {},
   "source": [
    "### Calculate the adsorption energy\n",
    "Use the crystal_functions cry_ads_energy function to get the adsorption energy (BSSE corrected)."
   ]
  },
  {
   "cell_type": "code",
   "execution_count": null,
   "id": "0bd64af2",
   "metadata": {},
   "outputs": [],
   "source": [
    "E_adsorption = []\n",
    "for i in range(len(file_names)):\n",
    "    E_adsorption.append(cry_ads_energy(E_full_system[i],E_sub_BSSE[i],E_ads_BSSE[i]))"
   ]
  },
  {
   "cell_type": "markdown",
   "id": "9c106eb2",
   "metadata": {},
   "source": [
    "### Create Dataframe"
   ]
  },
  {
   "cell_type": "code",
   "execution_count": null,
   "id": "75f4f786",
   "metadata": {},
   "outputs": [],
   "source": [
    "df = pd.DataFrame(list(zip(file_names, sub_composition, n_layers, ads_composition,  miller_indices, E_adsorption,E_sub_BSSE,E_ads_BSSE,E_full_system)),\n",
    "               columns =['File name', 'Substrate','N layers','Adsorbate','Miller Indices','E adsorption (BSSE)','E sub (ads ghost)','E ads (ads ghost)','E full system'])\n",
    "df"
   ]
  }
 ],
 "metadata": {
  "kernelspec": {
   "display_name": "Python 3 (ipykernel)",
   "language": "python",
   "name": "python3"
  },
  "language_info": {
   "codemirror_mode": {
    "name": "ipython",
    "version": 3
   },
   "file_extension": ".py",
   "mimetype": "text/x-python",
   "name": "python",
   "nbconvert_exporter": "python",
   "pygments_lexer": "ipython3",
   "version": "3.9.7"
  }
 },
 "nbformat": 4,
 "nbformat_minor": 5
}
