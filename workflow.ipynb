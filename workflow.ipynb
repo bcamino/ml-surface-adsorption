{
 "cells": [
  {
   "cell_type": "markdown",
   "id": "5b62f737",
   "metadata": {},
   "source": [
    "# Worflow to train the ML model\n",
    "\n",
    "This workflow performs the following tasks:\n",
    "- download the substrate structures from materials project\n",
    "- generate the adsorbate structures (pymatgen)\n",
    "- generate the adsorption structures\n",
    "- write the CRYSTAL inputs\n",
    "- run the adsorbate+substrate CRYSTAL calculations\n",
    "- run the adsorbate and substrate CRYSTAL calculations (GHOST atoms)\n",
    "- calculate the E_ads (BSSE corrected)\n",
    "\n",
    "\n",
    "NEW\n",
    "- write geomopt input\n",
    "- ghost function calculation\n",
    "- guessp opt\n",
    "- read geom"
   ]
  },
  {
   "cell_type": "code",
   "execution_count": 39,
   "id": "46af4c40",
   "metadata": {},
   "outputs": [],
   "source": [
    "# crystal_functions imports\n",
    "from crystal_functions.file_readwrite import write_cry_input, write_cry_gui\n",
    "from crystal_functions.file_readwrite import Crystal_input, Crystal_output\n",
    "from crystal_functions.adsorb import sub_ads_indices\n",
    "from crystal_functions.calculate import cry_ads_energy\n",
    "from crystal_functions.execute import runcry\n",
    "\n",
    "# pymatgen imports\n",
    "from pymatgen.core.structure import Molecule, Structure, Lattice\n",
    "from pymatgen.core.surface import SlabGenerator, generate_all_slabs\n",
    "from pymatgen.symmetry.analyzer import SpacegroupAnalyzer\n",
    "from pymatgen.analysis.adsorption import AdsorbateSiteFinder\n",
    "from pymatgen.ext.matproj import MPRester\n",
    "from pymatgen.io.ase import AseAtomsAdaptor\n",
    "\n",
    "from ase.visualize import view\n",
    "\n",
    "# other imports\n",
    "import shutil\n",
    "import pandas as pd\n",
    "import numpy as np"
   ]
  },
  {
   "cell_type": "code",
   "execution_count": 69,
   "id": "8e9c99b5",
   "metadata": {},
   "outputs": [],
   "source": [
    "miller_indices = 'all'\n",
    "thickness = 11."
   ]
  },
  {
   "cell_type": "markdown",
   "id": "dde6d1e3",
   "metadata": {},
   "source": [
    "### Make adsorbates\n",
    "Make the adsorbate structures using the Molecule class in pymatgen"
   ]
  },
  {
   "cell_type": "code",
   "execution_count": 70,
   "id": "bb925a62",
   "metadata": {},
   "outputs": [],
   "source": [
    "O = Molecule('O',[[0.0, 0.0, 0.0]])\n",
    "CO = Molecule('CO',[[0.0, 0.0, 0.0],[ 0.0, 0.0, 1.128]])\n",
    "H2O = Molecule('HHO',[[0.76,0.00,0.50],[-0.76, 0.00,0.50],[0.0, 0.0, 0.0]])\n",
    "adsorbates = [O,CO,H2O]\n",
    "adsorbates = [H2O] #for testing purpouses"
   ]
  },
  {
   "cell_type": "markdown",
   "id": "c649d107",
   "metadata": {},
   "source": [
    "### Make substrates"
   ]
  },
  {
   "cell_type": "markdown",
   "id": "5da14270",
   "metadata": {},
   "source": [
    "#### Bulk\n",
    "Download the bulk structures from the Materials Project"
   ]
  },
  {
   "cell_type": "code",
   "execution_count": 71,
   "id": "082a8281",
   "metadata": {},
   "outputs": [],
   "source": [
    "with MPRester(\"p5vAQV3F1QuxFcxVT\") as m:    \n",
    "    cu = m.get_structure_by_material_id(\"mp-30\")\n",
    "    mgo = m.get_structure_by_material_id(\"mp-1265\")\n",
    "    rutile = m.get_structure_by_material_id(\"mp-2657\")\n",
    "materials = [cu,mgo,rutile]\n",
    "materials = [mgo] #for testing purpouses "
   ]
  },
  {
   "cell_type": "markdown",
   "id": "c34dbdfa",
   "metadata": {},
   "source": [
    "Ensure the conventional cell is used"
   ]
  },
  {
   "cell_type": "code",
   "execution_count": 72,
   "id": "3efd62ad",
   "metadata": {},
   "outputs": [],
   "source": [
    "bulks = []\n",
    "for material in materials:\n",
    "    bulks.append(SpacegroupAnalyzer(material).get_conventional_standard_structure())"
   ]
  },
  {
   "cell_type": "markdown",
   "id": "a4c0e4a7",
   "metadata": {},
   "source": [
    "#### Slab\n",
    "Generate the slabs using the pymatgen SlabGenerator function."
   ]
  },
  {
   "cell_type": "code",
   "execution_count": 74,
   "id": "6474ff6f",
   "metadata": {},
   "outputs": [],
   "source": [
    "substrates =[]\n",
    "if miller_indices == 'all':\n",
    "    for bulk in bulks:\n",
    "        slabs = generate_all_slabs(bulk, max_index=1, min_slab_size=thickness, min_vacuum_size=10.0, \n",
    "                                       center_slab=True, symmetrize=True, in_unit_planes=False) \n",
    "        substrates.extend(slabs)\n",
    "        \n",
    "elif type(miller_indices) == list:\n",
    "    for bulk in bulks:\n",
    "        slabs = []\n",
    "        for miller_index in miller_indices:\n",
    "            slabs.append(SlabGenerator(bulk, miller_index, thickness, 10., center_slab=True, max_normal_search=5).get_slab())\n",
    "        substrates.extend(slabs)"
   ]
  },
  {
   "cell_type": "markdown",
   "id": "c66cbbce",
   "metadata": {},
   "source": [
    "### Adsorb\n",
    "Place the adsorbate on both surfaces of the slab (symmetric sites)"
   ]
  },
  {
   "cell_type": "code",
   "execution_count": 75,
   "id": "c4922d2d",
   "metadata": {},
   "outputs": [],
   "source": [
    "sub_composition = []\n",
    "ads_composition = []\n",
    "miller_ind = []    \n",
    "n_layers = []\n",
    "sub_ads_structures = []\n",
    "for substrate in substrates:\n",
    "    for adsorbate in adsorbates:\n",
    "        adsorption_structures = AdsorbateSiteFinder(substrate).adsorb_both_surfaces(adsorbate,repeat=[1,1,1])\n",
    "        #sites = AdsorbateSiteFinder(substrate).find_adsorption_sites()    \n",
    "        for i,adsorption_structure in enumerate(adsorption_structures):\n",
    "            miller_ind.append(adsorption_structure.miller_index)\n",
    "            n_layers.append(len(np.unique(substrate.cart_coords[:,2])))  \n",
    "            sub_composition.append(substrate.composition.reduced_formula)\n",
    "            ads_composition.append(str(adsorbate.composition.hill_formula).replace(\" \", \"\"))\n",
    "            \n",
    "            labels1 = []\n",
    "            labels2 = []\n",
    "            for i,z in enumerate(adsorption_structure.frac_coords[:,2]):\n",
    "                if z < 0:\n",
    "                    labels1.append(i)\n",
    "                if z > 1:\n",
    "                    labels2.append(i)\n",
    "\n",
    "            adsorption_structure.translate_sites(labels1,[0.,0.,1.])\n",
    "            adsorption_structure.translate_sites(labels2,[0.,0.,-1.])\n",
    "            \n",
    "            sub_ads_structures.append(adsorption_structure)"
   ]
  },
  {
   "cell_type": "code",
   "execution_count": 64,
   "id": "4f8a9b29",
   "metadata": {},
   "outputs": [
    {
     "data": {
      "text/plain": [
       "<Popen: returncode: None args: ['/Users/brunocamino/miniconda3/envs/test_env...>"
      ]
     },
     "execution_count": 64,
     "metadata": {},
     "output_type": "execute_result"
    },
    {
     "name": "stderr",
     "output_type": "stream",
     "text": [
      "<frozen importlib._bootstrap>:228: RuntimeWarning: scipy._lib.messagestream.MessageStream size changed, may indicate binary incompatibility. Expected 56 from C header, got 64 from PyObject\n"
     ]
    }
   ],
   "source": [
    "view(AseAtomsAdaptor().get_atoms(sub_ads_structures[-1]))"
   ]
  },
  {
   "cell_type": "markdown",
   "id": "e9dc1da5",
   "metadata": {},
   "source": [
    "### Prepare inputs (geometry optimisation)\n",
    "Define CRYSTAL input parameters."
   ]
  },
  {
   "cell_type": "code",
   "execution_count": 76,
   "id": "791b0305",
   "metadata": {},
   "outputs": [],
   "source": [
    "geom_block = ['Adsorption tests\\n','EXTERNAL\\n','EXTPRT\\n','OPTGEOM\\n','END\\n']\n",
    "bs_block = ['BASISSET\\n', 'POB-DZVP\\n']\n",
    "func_block = ['DFT\\n', 'B3LYP\\n', 'XXLGRID\\n', 'ENDDFT\\n']\n",
    "scf_block = [['TOLINTEG\\n', '5 5 5 5 10\\n'],\n",
    "             ['SHRINK\\n', '6 12\\n'],\n",
    "             ['MAXCYCLE\\n', '100\\n'],\n",
    "             ['FMIXING\\n', '70\\n'],\n",
    "             'DIIS\\n',\n",
    "             'ENDSCF\\n']"
   ]
  },
  {
   "cell_type": "markdown",
   "id": "60d92502",
   "metadata": {},
   "source": [
    "#### Write inputs\n",
    "Write the inputs to file."
   ]
  },
  {
   "cell_type": "code",
   "execution_count": 104,
   "id": "9a05baf2",
   "metadata": {
    "collapsed": true
   },
   "outputs": [
    {
     "name": "stdout",
     "output_type": "stream",
     "text": [
      "[12, 12, 12, 12, 8, 8, 8, 8, 8, 1, 1, 1, 1, 8, 8] ['1.76087 1.88857 8.18142', '1.6146 0.06512 10.5715', '2.96479 0.8466 13.14543', '1.31081 1.62808 15.5355', '1.83963 0.19537 6.89445', '3.18982 0.97685 9.46838', '1.53584 1.75832 11.85846', '2.88603 2.5398 14.43239', '2.73976 0.71635 16.82247', '-1.7705 0.2837 4.1704', '3.34572 0.62802 19.36267', '-0.25334 0.2837 4.26325', '1.82856 0.62802 19.26982', '-1.04244 0.26604 4.71558', '2.61766 0.64569 18.81749']\n",
      "[12, 12, 12, 12, 8, 8, 8, 8, 8, 1, 1, 1, 1, 8, 8] ['1.76087 1.88857 8.18142', '1.6146 0.06512 10.5715', '2.96479 0.8466 13.14543', '1.31081 1.62808 15.5355', '1.83963 0.19537 6.89445', '3.18982 0.97685 9.46838', '1.53584 1.75832 11.85846', '2.88603 2.5398 14.43239', '2.73976 0.71635 16.82247', '-0.26842 0.2837 4.26233', '1.84364 0.62802 19.27074', '1.24874 0.2837 4.35518', '0.32648 0.62802 19.17789', '0.45964 0.26604 4.80751', '1.11558 0.64569 18.72556']\n",
      "[12, 12, 12, 12, 8, 8, 8, 8, 8, 1, 1, 1, 1, 8, 8] ['1.76087 1.88857 8.18142', '1.6146 0.06512 10.5715', '2.96479 0.8466 13.14543', '1.31081 1.62808 15.5355', '1.83963 0.19537 6.89445', '3.18982 0.97685 9.46838', '1.53584 1.75832 11.85846', '2.88603 2.5398 14.43239', '2.73976 0.71635 16.82247', '-0.26654 -0.58461 4.23169', '1.84176 1.49633 19.30138', '1.25062 -0.58461 4.32454', '0.3246 1.49633 19.20853', '0.46152 -0.60227 4.77687', '1.1137 1.514 18.7562']\n",
      "[12, 12, 12, 12, 8, 8, 8, 8, 8, 1, 1, 1, 1, 8, 8] ['1.76087 1.88857 8.18142', '1.6146 0.06512 10.5715', '2.96479 0.8466 13.14543', '1.31081 1.62808 15.5355', '1.83963 0.19537 6.89445', '3.18982 0.97685 9.46838', '1.53584 1.75832 11.85846', '2.88603 2.5398 14.43239', '2.73976 0.71635 16.82247', '-1.76675 -1.45291 4.10912', '3.34197 2.36464 19.42395', '-0.24959 -1.45291 4.20197', '1.82481 2.36464 19.3311', '-1.03869 -1.47058 4.6543', '2.61391 2.38231 18.87877']\n",
      "[12, 12, 12, 12, 12, 8, 8, 8, 8, 1, 1, 1, 1, 8, 8] ['1.76087 1.88857 8.18142', '1.6146 0.06512 10.5715', '2.96479 0.8466 13.14543', '1.31081 1.62808 15.5355', '2.661 2.40956 18.10943', '3.18982 0.97685 9.46838', '1.53584 1.75832 11.85846', '2.88603 2.5398 14.43239', '2.73976 0.71635 16.82247', '1.15491 1.9769 5.64122', '3.26696 2.32122 20.64963', '2.67207 1.9769 5.73407', '1.7498 2.32122 20.55678', '1.88296 1.95924 6.1864', '2.5389 2.33889 20.10445']\n",
      "[12, 12, 12, 12, 12, 8, 8, 8, 8, 1, 1, 1, 1, 8, 8] ['1.76087 1.88857 8.18142', '1.6146 0.06512 10.5715', '2.96479 0.8466 13.14543', '1.31081 1.62808 15.5355', '2.661 2.40956 18.10943', '3.18982 0.97685 9.46838', '1.53584 1.75832 11.85846', '2.88603 2.5398 14.43239', '2.73976 0.71635 16.82247', '1.90876 0.67444 5.64122', '4.02081 1.01876 20.64963', '0.42175 0.67444 5.55022', '2.50365 1.01876 20.55678', '2.63682 0.65677 6.1864', '3.29276 1.03643 20.10445']\n",
      "[12, 12, 12, 12, 12, 8, 8, 8, 8, 1, 1, 1, 1, 8, 8] ['1.76087 1.88857 8.18142', '1.6146 0.06512 10.5715', '2.96479 0.8466 13.14543', '1.31081 1.62808 15.5355', '2.661 2.40956 18.10943', '3.18982 0.97685 9.46838', '1.53584 1.75832 11.85846', '2.88603 2.5398 14.43239', '2.73976 0.71635 16.82247', '2.65887 1.1086 5.70251', '3.27071 0.58461 20.58835', '1.17186 1.1086 5.6115', '1.75355 0.58461 20.4955', '3.38692 1.09093 6.24768', '2.54265 0.60227 20.04317']\n",
      "[12, 12, 12, 12, 12, 8, 8, 8, 8, 1, 1, 1, 1, 8, 8] ['1.76087 1.88857 8.18142', '1.6146 0.06512 10.5715', '2.96479 0.8466 13.14543', '1.31081 1.62808 15.5355', '2.661 2.40956 18.10943', '3.18982 0.97685 9.46838', '1.53584 1.75832 11.85846', '2.88603 2.5398 14.43239', '2.73976 0.71635 16.82247', '1.15866 0.24029 5.57994', '1.76675 1.45291 20.52706', '2.67582 0.24029 5.67279', '0.24959 1.45291 20.43421', '1.88671 0.22262 6.12512', '1.03869 1.47058 19.98188']\n",
      "[12, 12, 12, 12, 12, 12, 12, 12, 8, 8, 8, 8, 8, 8, 8, 8, 1, 1, 1, 1, 8, 8] ['2.25734 0.0 8.27692', '0.75245 2.12824 6.77202', '2.25734 0.0 11.28671', '0.75245 2.12824 9.78181', '2.25734 0.0 14.2965', '0.75245 2.12824 12.7916', '2.25734 0.0 17.30629', '0.75245 2.12824 15.80139', '0.75245 0.0 6.77202', '2.25734 2.12824 8.27692', '0.75245 0.0 9.78181', '2.25734 2.12824 11.28671', '0.75245 0.0 12.7916', '2.25734 2.12824 14.2965', '0.75245 0.0 15.80139', '2.25734 2.12824 17.30629', '3.00224 2.12824 4.27202', '3.01734 -0.0 19.80629', '1.51245 2.12824 4.27202', '1.49734 -0.0 19.80629', '0.75245 2.12824 4.77202', '2.25734 -0.0 19.30629']\n",
      "[12, 12, 12, 12, 12, 12, 12, 12, 8, 8, 8, 8, 8, 8, 8, 8, 1, 1, 1, 1, 8, 8] ['2.25734 0.0 8.27692', '0.75245 2.12824 6.77202', '2.25734 0.0 11.28671', '0.75245 2.12824 9.78181', '2.25734 0.0 14.2965', '0.75245 2.12824 12.7916', '2.25734 0.0 17.30629', '0.75245 2.12824 15.80139', '0.75245 0.0 6.77202', '2.25734 2.12824 8.27692', '0.75245 0.0 9.78181', '2.25734 2.12824 11.28671', '0.75245 0.0 12.7916', '2.25734 2.12824 14.2965', '0.75245 0.0 15.80139', '2.25734 2.12824 17.30629', '3.00224 4.25648 4.27202', '3.01734 2.12824 19.80629', '1.51245 4.25648 4.27202', '1.49734 2.12824 19.80629', '0.75245 0.0 4.77202', '2.25734 2.12824 19.30629']\n",
      "[12, 12, 12, 12, 12, 12, 12, 12, 8, 8, 8, 8, 8, 8, 8, 8, 1, 1, 1, 1, 8, 8] ['2.25734 0.0 8.27692', '0.75245 2.12824 6.77202', '2.25734 0.0 11.28671', '0.75245 2.12824 9.78181', '2.25734 0.0 14.2965', '0.75245 2.12824 12.7916', '2.25734 0.0 17.30629', '0.75245 2.12824 15.80139', '0.75245 0.0 6.77202', '2.25734 2.12824 8.27692', '0.75245 0.0 9.78181', '2.25734 2.12824 11.28671', '0.75245 0.0 12.7916', '2.25734 2.12824 14.2965', '0.75245 0.0 15.80139', '2.25734 2.12824 17.30629', '1.49734 3.19236 4.27202', '1.51245 3.19236 19.80629', '0.00755 3.19236 4.27202', '-0.00755 3.19236 19.80629', '2.25734 3.19236 4.77202', '0.75245 3.19236 19.30629']\n",
      "[12, 12, 12, 12, 12, 12, 12, 12, 8, 8, 8, 8, 8, 8, 8, 8, 1, 1, 1, 1, 8, 8] ['2.25734 0.0 8.27692', '0.75245 2.12824 6.77202', '2.25734 0.0 11.28671', '0.75245 2.12824 9.78181', '2.25734 0.0 14.2965', '0.75245 2.12824 12.7916', '2.25734 0.0 17.30629', '0.75245 2.12824 15.80139', '0.75245 0.0 6.77202', '2.25734 2.12824 8.27692', '0.75245 0.0 9.78181', '2.25734 2.12824 11.28671', '0.75245 0.0 12.7916', '2.25734 2.12824 14.2965', '0.75245 0.0 15.80139', '2.25734 2.12824 17.30629', '3.00224 3.19236 4.27202', '3.01734 3.19236 19.80629', '1.51245 3.19236 4.27202', '1.49734 3.19236 19.80629', '0.75245 3.19236 4.77202', '2.25734 3.19236 19.30629']\n",
      "[12, 12, 12, 12, 12, 12, 12, 12, 8, 8, 8, 8, 8, 8, 8, 8, 1, 1, 1, 1, 8, 8] ['2.25734 0.0 8.27692', '0.75245 2.12824 6.77202', '2.25734 0.0 11.28671', '0.75245 2.12824 9.78181', '2.25734 0.0 14.2965', '0.75245 2.12824 12.7916', '2.25734 0.0 17.30629', '0.75245 2.12824 15.80139', '0.75245 0.0 6.77202', '2.25734 2.12824 8.27692', '0.75245 0.0 9.78181', '2.25734 2.12824 11.28671', '0.75245 0.0 12.7916', '2.25734 2.12824 14.2965', '0.75245 0.0 15.80139', '2.25734 2.12824 17.30629', '1.49734 0.0 4.27202', '1.51245 2.12824 19.80629', '0.00755 0.0 4.27202', '-0.00755 2.12824 19.80629', '2.25734 4.25648 4.77202', '0.75245 2.12824 19.30629']\n",
      "[12, 12, 12, 12, 12, 12, 12, 12, 8, 8, 8, 8, 8, 8, 8, 8, 1, 1, 1, 1, 8, 8] ['2.25734 0.0 8.27692', '0.75245 2.12824 6.77202', '2.25734 0.0 11.28671', '0.75245 2.12824 9.78181', '2.25734 0.0 14.2965', '0.75245 2.12824 12.7916', '2.25734 0.0 17.30629', '0.75245 2.12824 15.80139', '0.75245 0.0 6.77202', '2.25734 2.12824 8.27692', '0.75245 0.0 9.78181', '2.25734 2.12824 11.28671', '0.75245 0.0 12.7916', '2.25734 2.12824 14.2965', '0.75245 0.0 15.80139', '2.25734 2.12824 17.30629', '1.49734 2.12824 4.27202', '1.51245 -0.0 19.80629', '0.00755 2.12824 4.27202', '-0.00755 -0.0 19.80629', '2.25734 2.12824 4.77202', '0.75245 -0.0 19.30629']\n",
      "[12, 12, 12, 12, 12, 12, 8, 8, 8, 8, 8, 8, 1, 1, 1, 1, 8, 8] ['0.0 0.0 15.96182', '1.50489 1.50489 18.09006', '-0.0 0.0 11.70533', '1.50489 1.50489 13.83357', '-0.0 0.0 7.44885', '1.50489 1.50489 9.57709', '-0.0 0.0 18.09006', '1.50489 1.50489 15.96182', '0.0 0.0 13.83357', '1.50489 1.50489 11.70533', '-0.0 0.0 9.57709', '1.50489 1.50489 7.44885', '2.24979 0.0 4.94885', '2.26489 1.50489 20.59006', '0.76 0.0 4.94885', '0.74489 1.50489 20.59006', '-0.0 0.0 5.44885', '1.50489 1.50489 20.09006']\n",
      "[12, 12, 12, 12, 12, 12, 8, 8, 8, 8, 8, 8, 1, 1, 1, 1, 8, 8] ['0.0 0.0 15.96182', '1.50489 1.50489 18.09006', '-0.0 0.0 11.70533', '1.50489 1.50489 13.83357', '-0.0 0.0 7.44885', '1.50489 1.50489 9.57709', '-0.0 0.0 18.09006', '1.50489 1.50489 15.96182', '0.0 0.0 13.83357', '1.50489 1.50489 11.70533', '-0.0 0.0 9.57709', '1.50489 1.50489 7.44885', '0.74489 1.50489 4.94885', '0.76 -0.0 20.59006', '2.26489 1.50489 4.94885', '-0.76 -0.0 20.59006', '1.50489 1.50489 5.44885', '-0.0 -0.0 20.09006']\n",
      "[12, 12, 12, 12, 12, 12, 8, 8, 8, 8, 8, 8, 1, 1, 1, 1, 8, 8] ['0.0 0.0 15.96182', '1.50489 1.50489 18.09006', '-0.0 0.0 11.70533', '1.50489 1.50489 13.83357', '-0.0 0.0 7.44885', '1.50489 1.50489 9.57709', '-0.0 0.0 18.09006', '1.50489 1.50489 15.96182', '0.0 0.0 13.83357', '1.50489 1.50489 11.70533', '-0.0 0.0 9.57709', '1.50489 1.50489 7.44885', '3.00224 0.75245 4.94885', '1.51245 0.75245 20.59006', '1.51245 0.75245 4.94885', '-0.00755 0.75245 20.59006', '0.75245 0.75245 5.44885', '0.75245 0.75245 20.09006']\n",
      "[12, 12, 12, 12, 12, 12, 8, 8, 8, 8, 8, 8, 1, 1, 1, 1, 8, 8] ['0.0 0.0 15.96182', '1.50489 1.50489 18.09006', '-0.0 0.0 11.70533', '1.50489 1.50489 13.83357', '-0.0 0.0 7.44885', '1.50489 1.50489 9.57709', '-0.0 0.0 18.09006', '1.50489 1.50489 15.96182', '0.0 0.0 13.83357', '1.50489 1.50489 11.70533', '-0.0 0.0 9.57709', '1.50489 1.50489 7.44885', '2.24979 1.50489 4.94885', '2.26489 0.0 20.59006', '0.76 1.50489 4.94885', '0.74489 0.0 20.59006', '0.0 1.50489 5.44885', '1.50489 0.0 20.09006']\n"
     ]
    }
   ],
   "source": [
    "file_names = []\n",
    "for i,structure in enumerate(sub_ads_structures):\n",
    "    input_name = 'data/'+str(sub_composition[i]).replace(\" \", \"\")+'_'+str(ads_composition[i]).replace(\" \", \"\")+'_' \\\n",
    "               +''.join(str(x) for x in structure.miller_index)+'_'+str(i+1)+'.d12'\n",
    "    file_names.append(input_name[:-4])\n",
    "    write_cry_input(input_name,crystal_blocks=[geom_block,bs_block,func_block,scf_block],external_obj=structure)\n",
    "    qsub_template.append(runcryP[:-2]+input_name[:-4]+'\\n')"
   ]
  },
  {
   "cell_type": "markdown",
   "id": "30b60b32",
   "metadata": {},
   "source": [
    "### Run the calculations\n",
    "Use the crystal_functions runcry function to execute CRYSTAL (please ensure the path to your runcry17 is defined in execute.runcry()"
   ]
  },
  {
   "cell_type": "markdown",
   "id": "3f3308ad",
   "metadata": {},
   "source": [
    "### Prepare the qsub file"
   ]
  },
  {
   "cell_type": "code",
   "execution_count": 95,
   "id": "9532d281",
   "metadata": {},
   "outputs": [],
   "source": [
    "with open('qsub_template.qsub') as file:\n",
    "    qsub_template = file.readlines()\n",
    "\n",
    "runcryP = qsub_template.pop(34)"
   ]
  },
  {
   "cell_type": "markdown",
   "id": "dcb75f66",
   "metadata": {},
   "source": [
    "### Submit calculation"
   ]
  },
  {
   "cell_type": "code",
   "execution_count": 14,
   "id": "78377a56",
   "metadata": {},
   "outputs": [],
   "source": []
  },
  {
   "cell_type": "markdown",
   "id": "4a58725e",
   "metadata": {},
   "source": [
    "### Read the optimised geometry\n",
    "Use the crystal_functions Crystal_output class to extract the final energy."
   ]
  },
  {
   "cell_type": "code",
   "execution_count": 29,
   "id": "d5108619",
   "metadata": {},
   "outputs": [],
   "source": [
    "E_full_system = []\n",
    "for cry_input in file_names:\n",
    "    cry_output = Crystal_output(cry_input+'.out')\n",
    "    if cry_output.converged == True:\n",
    "        E_full_system.append(cry_output.final_energy()) "
   ]
  },
  {
   "cell_type": "markdown",
   "id": "616c0c70",
   "metadata": {},
   "source": [
    "### Prepare inputs for the BSSE calculations\n",
    "Generate the inputs for the BSSE calculation. The indices of the GHOST atoms are obtained from the pymatgen.core.structure.Slab object ('adsorbate' and 'substrate')."
   ]
  },
  {
   "cell_type": "code",
   "execution_count": 18,
   "id": "6f624c38",
   "metadata": {},
   "outputs": [],
   "source": [
    "for i,cry_input in enumerate(file_names):\n",
    "    indices = sub_ads_indices(sub_ads_structures[i])\n",
    "    #Substrate      \n",
    "    shutil.copy(cry_input+'.gui',cry_input+'_BSSE_sub.gui')\n",
    "    bsse_sub_inp = Crystal_input(cry_input+'.d12')\n",
    "    bsse_sub_inp.add_ghost(indices['adsorbate'])\n",
    "    bsse_sub_inp.opt_to_sp()\n",
    "    bsse_sub_inp_name = cry_input+'_BSSE_sub.d12'\n",
    "    write_cry_input(bsse_sub_inp_name,bsse_sub_inp)\n",
    "\n",
    "    shutil.copy(cry_input+'.gui',cry_input+'_BSSE_sub.gui')\n",
    "\n",
    "    #Adsorbate\n",
    "    shutil.copy(cry_input+'.gui',cry_input+'_BSSE_ads.gui')\n",
    "    bsse_ads_inp = Crystal_input(cry_input+'.d12')\n",
    "    bsse_ads_inp.add_ghost(indices['substrate'])\n",
    "    bsse_sub_inp.opt_to_sp()\n",
    "    bsse_ads_inp_name = cry_input+'_BSSE_ads.d12'\n",
    "    write_cry_input(bsse_ads_inp_name,bsse_ads_inp)\n",
    "\n",
    "    shutil.copy(cry_input+'.gui',cry_input+'_BSSE_ads.gui')"
   ]
  },
  {
   "cell_type": "markdown",
   "id": "aa51117f",
   "metadata": {},
   "source": [
    "### Run the BSSE calculations\n",
    "Use the crystal_functions runcry function to execute CRYSTAL (please ensure the path to your runcry17 is defined in execute.runcry()"
   ]
  },
  {
   "cell_type": "code",
   "execution_count": 33,
   "id": "5805b446",
   "metadata": {},
   "outputs": [],
   "source": [
    "E_sub_BSSE = []\n",
    "E_ads_BSSE = []\n",
    "for i,cry_input in enumerate(file_names):\n",
    "    runcry(cry_input+'_BSSE_sub')\n",
    "    cry_BSSE_sub_output = Crystal_output(cry_input+'_BSSE_sub.out')\n",
    "    if cry_BSSE_sub_output.converged == True:\n",
    "        E_sub_BSSE.append(cry_BSSE_sub_output.final_energy())\n",
    "    \n",
    "    \n",
    "    runcry(cry_input+'_BSSE_ads')\n",
    "    cry_BSSE_ads_output = Crystal_output(cry_input+'_BSSE_ads.out')\n",
    "    if cry_BSSE_ads_output.converged == True:\n",
    "        E_ads_BSSE.append(cry_BSSE_ads_output.final_energy())"
   ]
  },
  {
   "cell_type": "markdown",
   "id": "c60338a0",
   "metadata": {},
   "source": [
    "### Calculate the adsorption energy\n",
    "Use the crystal_functions cry_ads_energy function to get the adsorption energy (BSSE corrected)."
   ]
  },
  {
   "cell_type": "code",
   "execution_count": 35,
   "id": "0bd64af2",
   "metadata": {},
   "outputs": [],
   "source": [
    "E_adsorption = []\n",
    "for i in range(len(file_names)):\n",
    "    E_adsorption.append(cry_ads_energy(E_full_system[i],E_sub_BSSE[i],E_ads_BSSE[i]))"
   ]
  },
  {
   "cell_type": "markdown",
   "id": "9c106eb2",
   "metadata": {},
   "source": [
    "### Create Dataframe"
   ]
  },
  {
   "cell_type": "code",
   "execution_count": 39,
   "id": "75f4f786",
   "metadata": {},
   "outputs": [
    {
     "data": {
      "text/html": [
       "<div>\n",
       "<style scoped>\n",
       "    .dataframe tbody tr th:only-of-type {\n",
       "        vertical-align: middle;\n",
       "    }\n",
       "\n",
       "    .dataframe tbody tr th {\n",
       "        vertical-align: top;\n",
       "    }\n",
       "\n",
       "    .dataframe thead th {\n",
       "        text-align: right;\n",
       "    }\n",
       "</style>\n",
       "<table border=\"1\" class=\"dataframe\">\n",
       "  <thead>\n",
       "    <tr style=\"text-align: right;\">\n",
       "      <th></th>\n",
       "      <th>File name</th>\n",
       "      <th>Substrate</th>\n",
       "      <th>N layers</th>\n",
       "      <th>Adsorbate</th>\n",
       "      <th>Miller Indices</th>\n",
       "      <th>E adsorption (BSSE)</th>\n",
       "      <th>E sub (ads ghost)</th>\n",
       "      <th>E ads (ads ghost)</th>\n",
       "      <th>E full system</th>\n",
       "    </tr>\n",
       "  </thead>\n",
       "  <tbody>\n",
       "    <tr>\n",
       "      <th>0</th>\n",
       "      <td>data/Cu_O_100_1</td>\n",
       "      <td>Cu</td>\n",
       "      <td>1</td>\n",
       "      <td>O</td>\n",
       "      <td>(1, 1, 1)</td>\n",
       "      <td>2409.283222</td>\n",
       "      <td>-47341.648962</td>\n",
       "      <td>-50263.955891</td>\n",
       "      <td>-95196.321631</td>\n",
       "    </tr>\n",
       "    <tr>\n",
       "      <th>1</th>\n",
       "      <td>data/Cu_O_100_2</td>\n",
       "      <td>Cu</td>\n",
       "      <td>1</td>\n",
       "      <td>O</td>\n",
       "      <td>(1, 1, 1)</td>\n",
       "      <td>-11638.113883</td>\n",
       "      <td>-83509.646796</td>\n",
       "      <td>-82921.005588</td>\n",
       "      <td>-178068.766266</td>\n",
       "    </tr>\n",
       "    <tr>\n",
       "      <th>2</th>\n",
       "      <td>data/Cu_O_100_3</td>\n",
       "      <td>Cu</td>\n",
       "      <td>1</td>\n",
       "      <td>O</td>\n",
       "      <td>(1, 1, 1)</td>\n",
       "      <td>632.897215</td>\n",
       "      <td>-44125.322377</td>\n",
       "      <td>-4025.968968</td>\n",
       "      <td>-47518.394130</td>\n",
       "    </tr>\n",
       "    <tr>\n",
       "      <th>3</th>\n",
       "      <td>data/Cu_O_100_4</td>\n",
       "      <td>Cu</td>\n",
       "      <td>2</td>\n",
       "      <td>O</td>\n",
       "      <td>(1, 1, 0)</td>\n",
       "      <td>12274.686627</td>\n",
       "      <td>-87421.473073</td>\n",
       "      <td>-92809.964171</td>\n",
       "      <td>-167956.750617</td>\n",
       "    </tr>\n",
       "    <tr>\n",
       "      <th>4</th>\n",
       "      <td>data/Cu_O_100_5</td>\n",
       "      <td>Cu</td>\n",
       "      <td>2</td>\n",
       "      <td>O</td>\n",
       "      <td>(1, 1, 0)</td>\n",
       "      <td>13841.186530</td>\n",
       "      <td>-89071.485326</td>\n",
       "      <td>-92285.435147</td>\n",
       "      <td>-167515.733942</td>\n",
       "    </tr>\n",
       "    <tr>\n",
       "      <th>5</th>\n",
       "      <td>data/Cu_O_100_6</td>\n",
       "      <td>Cu</td>\n",
       "      <td>2</td>\n",
       "      <td>O</td>\n",
       "      <td>(1, 1, 0)</td>\n",
       "      <td>-9386.445718</td>\n",
       "      <td>-86475.931476</td>\n",
       "      <td>-87026.095877</td>\n",
       "      <td>-182888.473072</td>\n",
       "    </tr>\n",
       "    <tr>\n",
       "      <th>6</th>\n",
       "      <td>data/Cu_O_100_7</td>\n",
       "      <td>Cu</td>\n",
       "      <td>2</td>\n",
       "      <td>O</td>\n",
       "      <td>(1, 1, 0)</td>\n",
       "      <td>-11638.113883</td>\n",
       "      <td>-83509.646796</td>\n",
       "      <td>-82921.005588</td>\n",
       "      <td>-178068.766266</td>\n",
       "    </tr>\n",
       "    <tr>\n",
       "      <th>7</th>\n",
       "      <td>data/Cu_O_100_8</td>\n",
       "      <td>Cu</td>\n",
       "      <td>2</td>\n",
       "      <td>O</td>\n",
       "      <td>(1, 0, 0)</td>\n",
       "      <td>-10107.443535</td>\n",
       "      <td>-86290.160382</td>\n",
       "      <td>-86199.967101</td>\n",
       "      <td>-182597.571017</td>\n",
       "    </tr>\n",
       "    <tr>\n",
       "      <th>8</th>\n",
       "      <td>data/Cu_O_100_9</td>\n",
       "      <td>Cu</td>\n",
       "      <td>2</td>\n",
       "      <td>O</td>\n",
       "      <td>(1, 0, 0)</td>\n",
       "      <td>1442.160954</td>\n",
       "      <td>-88251.935834</td>\n",
       "      <td>-4025.501840</td>\n",
       "      <td>-90835.276720</td>\n",
       "    </tr>\n",
       "    <tr>\n",
       "      <th>9</th>\n",
       "      <td>data/Cu_O_100_10</td>\n",
       "      <td>Cu</td>\n",
       "      <td>2</td>\n",
       "      <td>O</td>\n",
       "      <td>(1, 0, 0)</td>\n",
       "      <td>-10796.145444</td>\n",
       "      <td>-86251.217692</td>\n",
       "      <td>-86443.874040</td>\n",
       "      <td>-183491.237176</td>\n",
       "    </tr>\n",
       "  </tbody>\n",
       "</table>\n",
       "</div>"
      ],
      "text/plain": [
       "          File name Substrate  N layers Adsorbate Miller Indices  \\\n",
       "0   data/Cu_O_100_1        Cu         1         O      (1, 1, 1)   \n",
       "1   data/Cu_O_100_2        Cu         1         O      (1, 1, 1)   \n",
       "2   data/Cu_O_100_3        Cu         1         O      (1, 1, 1)   \n",
       "3   data/Cu_O_100_4        Cu         2         O      (1, 1, 0)   \n",
       "4   data/Cu_O_100_5        Cu         2         O      (1, 1, 0)   \n",
       "5   data/Cu_O_100_6        Cu         2         O      (1, 1, 0)   \n",
       "6   data/Cu_O_100_7        Cu         2         O      (1, 1, 0)   \n",
       "7   data/Cu_O_100_8        Cu         2         O      (1, 0, 0)   \n",
       "8   data/Cu_O_100_9        Cu         2         O      (1, 0, 0)   \n",
       "9  data/Cu_O_100_10        Cu         2         O      (1, 0, 0)   \n",
       "\n",
       "   E adsorption (BSSE)  E sub (ads ghost)  E ads (ads ghost)  E full system  \n",
       "0          2409.283222      -47341.648962      -50263.955891  -95196.321631  \n",
       "1        -11638.113883      -83509.646796      -82921.005588 -178068.766266  \n",
       "2           632.897215      -44125.322377       -4025.968968  -47518.394130  \n",
       "3         12274.686627      -87421.473073      -92809.964171 -167956.750617  \n",
       "4         13841.186530      -89071.485326      -92285.435147 -167515.733942  \n",
       "5         -9386.445718      -86475.931476      -87026.095877 -182888.473072  \n",
       "6        -11638.113883      -83509.646796      -82921.005588 -178068.766266  \n",
       "7        -10107.443535      -86290.160382      -86199.967101 -182597.571017  \n",
       "8          1442.160954      -88251.935834       -4025.501840  -90835.276720  \n",
       "9        -10796.145444      -86251.217692      -86443.874040 -183491.237176  "
      ]
     },
     "metadata": {},
     "output_type": "display_data"
    },
    {
     "name": "stdout",
     "output_type": "stream",
     "text": [
      "*The data presented in this table is for testing the Jupyter Notebook only. The calculations were not performed\n",
      "at an acceptable level of accuracy and were not converged.\n"
     ]
    }
   ],
   "source": [
    "df = pd.DataFrame(list(zip(file_names, sub_composition, n_layers, ads_composition,  miller_indices, E_adsorption,\n",
    "                           E_sub_BSSE,E_ads_BSSE,E_full_system)),\n",
    "               columns =['File name', 'Substrate','N layers','Adsorbate','Miller Indices','E adsorption (BSSE)',\n",
    "                         'E sub (ads ghost)','E ads (ads ghost)','E full system'])\n",
    "display(df)\n",
    "print('*The data presented in this table is for testing the Jupyter Notebook only. The calculations were not performed')\n",
    "print('at an acceptable level of accuracy and were not converged.')"
   ]
  }
 ],
 "metadata": {
  "kernelspec": {
   "display_name": "Python 3 (ipykernel)",
   "language": "python",
   "name": "python3"
  },
  "language_info": {
   "codemirror_mode": {
    "name": "ipython",
    "version": 3
   },
   "file_extension": ".py",
   "mimetype": "text/x-python",
   "name": "python",
   "nbconvert_exporter": "python",
   "pygments_lexer": "ipython3",
   "version": "3.9.10"
  }
 },
 "nbformat": 4,
 "nbformat_minor": 5
}
